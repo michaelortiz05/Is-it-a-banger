{
 "cells": [
  {
   "cell_type": "code",
   "execution_count": 4,
   "id": "ae8bc6e1",
   "metadata": {},
   "outputs": [],
   "source": [
    "# Libraries used\n",
    "import spotipy\n",
    "from spotipy.oauth2 import SpotifyClientCredentials\n",
    "from spotipy.oauth2 import SpotifyOAuth\n",
    "import pandas as pd\n",
    "import numpy as np\n",
    "import matplotlib.pyplot as plt\n",
    "import seaborn as sns"
   ]
  },
  {
   "cell_type": "code",
   "execution_count": 6,
   "id": "c2898583",
   "metadata": {},
   "outputs": [],
   "source": [
    "%load_ext dotenv\n",
    "%dotenv"
   ]
  },
  {
   "cell_type": "code",
   "execution_count": 7,
   "id": "b3886626",
   "metadata": {},
   "outputs": [],
   "source": [
    "# authenticate the api\n",
    "# sp = spotipy.Spotify(auth_manager=SpotifyClientCredentials(client_id=data['ID'],\n",
    "#                                                           client_secret=data['Secret']))\n",
    "scope = \"user-library-read user-top-read user-read-recently-played user-read-playback-position\"\n",
    "sp = spotipy.Spotify(auth_manager=SpotifyOAuth(scope=scope))"
   ]
  },
  {
   "cell_type": "markdown",
   "id": "2c41dec8",
   "metadata": {},
   "source": [
    "## General Code for Grabbing Tracks"
   ]
  },
  {
   "cell_type": "code",
   "execution_count": 58,
   "id": "c2d9280a",
   "metadata": {},
   "outputs": [],
   "source": [
    "# Get all saved tracks\n",
    "saved_tracks = {}\n",
    "num_offsets = 1\n",
    "for i in range(num_offsets):\n",
    "    recent_tracks = sp.current_user_saved_tracks(limit=50, offset=i)\n",
    "    if not recent_tracks['items']:\n",
    "        break\n",
    "    for r in recent_tracks['items']:\n",
    "        saved_tracks[r['track']['id']] = (r['track']['name'])"
   ]
  },
  {
   "cell_type": "code",
   "execution_count": 61,
   "id": "b01ab2ea",
   "metadata": {},
   "outputs": [],
   "source": [
    "features = sp.audio_features([k for (k,v) in saved_tracks.items()])\n",
    "\n",
    "features_df = pd.DataFrame(f)\n",
    "features_df['names'] = df['id'].map(saved_tracks)\n",
    "features_df = features_df.dropna()"
   ]
  },
  {
   "cell_type": "code",
   "execution_count": 62,
   "id": "7a181e31",
   "metadata": {},
   "outputs": [],
   "source": [
    "features_clean = features_df.drop(columns=['type', 'id', 'uri', 'track_href', 'analysis_url'])\n",
    "features_clean.to_csv('song_features.csv')"
   ]
  },
  {
   "cell_type": "markdown",
   "id": "c95ec415",
   "metadata": {},
   "source": [
    "## Working With Labeled Banger Data"
   ]
  },
  {
   "cell_type": "code",
   "execution_count": 65,
   "id": "b5c554d5",
   "metadata": {},
   "outputs": [
    {
     "data": {
      "text/html": [
       "<div>\n",
       "<style scoped>\n",
       "    .dataframe tbody tr th:only-of-type {\n",
       "        vertical-align: middle;\n",
       "    }\n",
       "\n",
       "    .dataframe tbody tr th {\n",
       "        vertical-align: top;\n",
       "    }\n",
       "\n",
       "    .dataframe thead th {\n",
       "        text-align: right;\n",
       "    }\n",
       "</style>\n",
       "<table border=\"1\" class=\"dataframe\">\n",
       "  <thead>\n",
       "    <tr style=\"text-align: right;\">\n",
       "      <th></th>\n",
       "      <th>danceability</th>\n",
       "      <th>energy</th>\n",
       "      <th>key</th>\n",
       "      <th>loudness</th>\n",
       "      <th>mode</th>\n",
       "      <th>speechiness</th>\n",
       "      <th>acousticness</th>\n",
       "      <th>instrumentalness</th>\n",
       "      <th>liveness</th>\n",
       "      <th>valence</th>\n",
       "      <th>tempo</th>\n",
       "      <th>duration_ms</th>\n",
       "      <th>time_signature</th>\n",
       "      <th>names</th>\n",
       "      <th>banger</th>\n",
       "    </tr>\n",
       "  </thead>\n",
       "  <tbody>\n",
       "    <tr>\n",
       "      <th>0</th>\n",
       "      <td>0.407</td>\n",
       "      <td>0.980</td>\n",
       "      <td>7</td>\n",
       "      <td>-1.580</td>\n",
       "      <td>1</td>\n",
       "      <td>0.1070</td>\n",
       "      <td>0.001740</td>\n",
       "      <td>0.000112</td>\n",
       "      <td>0.1190</td>\n",
       "      <td>0.5370</td>\n",
       "      <td>131.066</td>\n",
       "      <td>254467</td>\n",
       "      <td>4</td>\n",
       "      <td>Custer</td>\n",
       "      <td>1</td>\n",
       "    </tr>\n",
       "    <tr>\n",
       "      <th>1</th>\n",
       "      <td>0.612</td>\n",
       "      <td>0.889</td>\n",
       "      <td>11</td>\n",
       "      <td>-5.449</td>\n",
       "      <td>0</td>\n",
       "      <td>0.0446</td>\n",
       "      <td>0.036600</td>\n",
       "      <td>0.800000</td>\n",
       "      <td>0.0882</td>\n",
       "      <td>0.7000</td>\n",
       "      <td>95.105</td>\n",
       "      <td>270946</td>\n",
       "      <td>3</td>\n",
       "      <td>Thin Thing</td>\n",
       "      <td>0</td>\n",
       "    </tr>\n",
       "    <tr>\n",
       "      <th>2</th>\n",
       "      <td>0.388</td>\n",
       "      <td>0.345</td>\n",
       "      <td>0</td>\n",
       "      <td>-11.185</td>\n",
       "      <td>0</td>\n",
       "      <td>0.0306</td>\n",
       "      <td>0.865000</td>\n",
       "      <td>0.773000</td>\n",
       "      <td>0.1020</td>\n",
       "      <td>0.1450</td>\n",
       "      <td>87.450</td>\n",
       "      <td>256973</td>\n",
       "      <td>4</td>\n",
       "      <td>Speech Bubbles</td>\n",
       "      <td>0</td>\n",
       "    </tr>\n",
       "    <tr>\n",
       "      <th>3</th>\n",
       "      <td>0.243</td>\n",
       "      <td>0.970</td>\n",
       "      <td>5</td>\n",
       "      <td>-2.518</td>\n",
       "      <td>0</td>\n",
       "      <td>0.0877</td>\n",
       "      <td>0.000003</td>\n",
       "      <td>0.040400</td>\n",
       "      <td>0.2840</td>\n",
       "      <td>0.2430</td>\n",
       "      <td>102.725</td>\n",
       "      <td>237840</td>\n",
       "      <td>4</td>\n",
       "      <td>The Heaviest Matter of the Universe</td>\n",
       "      <td>0</td>\n",
       "    </tr>\n",
       "    <tr>\n",
       "      <th>4</th>\n",
       "      <td>0.294</td>\n",
       "      <td>0.707</td>\n",
       "      <td>2</td>\n",
       "      <td>-5.418</td>\n",
       "      <td>1</td>\n",
       "      <td>0.0389</td>\n",
       "      <td>0.040800</td>\n",
       "      <td>0.106000</td>\n",
       "      <td>0.0705</td>\n",
       "      <td>0.0395</td>\n",
       "      <td>149.940</td>\n",
       "      <td>189679</td>\n",
       "      <td>4</td>\n",
       "      <td>Legend</td>\n",
       "      <td>1</td>\n",
       "    </tr>\n",
       "  </tbody>\n",
       "</table>\n",
       "</div>"
      ],
      "text/plain": [
       "   danceability  energy  key  loudness  mode  speechiness  acousticness  \\\n",
       "0         0.407   0.980    7    -1.580     1       0.1070      0.001740   \n",
       "1         0.612   0.889   11    -5.449     0       0.0446      0.036600   \n",
       "2         0.388   0.345    0   -11.185     0       0.0306      0.865000   \n",
       "3         0.243   0.970    5    -2.518     0       0.0877      0.000003   \n",
       "4         0.294   0.707    2    -5.418     1       0.0389      0.040800   \n",
       "\n",
       "   instrumentalness  liveness  valence    tempo  duration_ms  time_signature  \\\n",
       "0          0.000112    0.1190   0.5370  131.066       254467               4   \n",
       "1          0.800000    0.0882   0.7000   95.105       270946               3   \n",
       "2          0.773000    0.1020   0.1450   87.450       256973               4   \n",
       "3          0.040400    0.2840   0.2430  102.725       237840               4   \n",
       "4          0.106000    0.0705   0.0395  149.940       189679               4   \n",
       "\n",
       "                                 names  banger  \n",
       "0                               Custer       1  \n",
       "1                           Thin Thing       0  \n",
       "2                       Speech Bubbles       0  \n",
       "3  The Heaviest Matter of the Universe       0  \n",
       "4                               Legend       1  "
      ]
     },
     "execution_count": 65,
     "metadata": {},
     "output_type": "execute_result"
    }
   ],
   "source": [
    "banger_df = pd.read_csv('song_features_banger.csv') \n",
    "banger_df.head()"
   ]
  },
  {
   "cell_type": "code",
   "execution_count": null,
   "id": "2b7e937e",
   "metadata": {},
   "outputs": [],
   "source": []
  }
 ],
 "metadata": {
  "kernelspec": {
   "display_name": "Python 3 (ipykernel)",
   "language": "python",
   "name": "python3"
  },
  "language_info": {
   "codemirror_mode": {
    "name": "ipython",
    "version": 3
   },
   "file_extension": ".py",
   "mimetype": "text/x-python",
   "name": "python",
   "nbconvert_exporter": "python",
   "pygments_lexer": "ipython3",
   "version": "3.10.4"
  }
 },
 "nbformat": 4,
 "nbformat_minor": 5
}
